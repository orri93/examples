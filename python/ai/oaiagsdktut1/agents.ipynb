{
 "cells": [
  {
   "cell_type": "code",
   "execution_count": null,
   "id": "c4c09a03",
   "metadata": {},
   "outputs": [
    {
     "data": {
      "text/plain": [
       ""
      ]
     },
     "execution_count": 1,
     "metadata": {},
     "output_type": "execute_result"
    }
   ],
   "source": [
    "import os\n",
    "from dotenv import load_dotenv\n",
    "\n",
    "load_dotenv()\n",
    "\n",
    "api_key = os.environ.get(\"OPENAI_API_KEY\")\n",
    "\n",
    "if not api_key:\n",
    "  raise ValueError(\"Please set the OPENAI_API_KEY environment variable.\")"
   ]
  },
  {
   "cell_type": "code",
   "execution_count": 4,
   "id": "4e0044f7",
   "metadata": {},
   "outputs": [
    {
     "data": {
      "text/plain": [
       "'HELLO! I’M AN AI ASSISTANT, AND I’M DOING GREAT. HOW CAN I HELP YOU TODAY?'"
      ]
     },
     "execution_count": 4,
     "metadata": {},
     "output_type": "execute_result"
    }
   ],
   "source": [
    "from agents import Agent, Runner\n",
    "\n",
    "agent = Agent(\n",
    "  name=\"Basic Agent\",\n",
    "  instructions=\"You are a helpful assistant. Respond on in all caps.\",\n",
    "  model=\"o4-mini\"\n",
    ")\n",
    "\n",
    "result = await Runner.run(agent, \"Hello, how are you?\")\n",
    "result.final_output"
   ]
  },
  {
   "cell_type": "code",
   "execution_count": 7,
   "id": "06379965",
   "metadata": {},
   "outputs": [
    {
     "data": {
      "text/plain": [
       "'Why don’t cats play poker in the jungle?  \\nBecause there are too many cheetahs! 😸'"
      ]
     },
     "execution_count": 7,
     "metadata": {},
     "output_type": "execute_result"
    }
   ],
   "source": [
    "joke_agent = Agent(\n",
    "  name=\"Joke Agent\",\n",
    "  instructions=\"You are a joke teller. You are given a topic and you need to tell a joke about it.\",\n",
    "  model=\"o4-mini\"\n",
    ")\n",
    "\n",
    "topic = \"Cats\"\n",
    "result = await Runner.run(joke_agent, topic)\n",
    "result.final_output"
   ]
  },
  {
   "cell_type": "code",
   "execution_count": 9,
   "id": "7382d1e6",
   "metadata": {},
   "outputs": [
    {
     "name": "stdout",
     "output_type": "stream",
     "text": [
      "Original Joke: Why did the cat sit on the computer?  \n",
      "It wanted to keep an eye on the mouse!\n",
      "Translated Joke: Af hverju sat kötturinn á tölvunni?  \n",
      "Hann vildi hafa auga á tölvumúsinni!\n"
     ]
    }
   ],
   "source": [
    "language_agent = Agent(\n",
    "  name=\"Language Agent\",\n",
    "  instructions=\"You are a language expert. You are given a joke and you need to rewrite it in a different language.\",\n",
    "  model=\"o4-mini\"\n",
    ")\n",
    "\n",
    "joke_result = await Runner.run(joke_agent, topic)\n",
    "transleted_result = await Runner.run(language_agent, f\"Translate this joke to Icelandic: {joke_result.final_output} \")\n",
    "print(f\"Original Joke: {joke_result.final_output}\")\n",
    "print(f\"Translated Joke: {transleted_result.final_output}\")"
   ]
  }
 ],
 "metadata": {
  "kernelspec": {
   "display_name": "venv",
   "language": "python",
   "name": "python3"
  },
  "language_info": {
   "codemirror_mode": {
    "name": "ipython",
    "version": 3
   },
   "file_extension": ".py",
   "mimetype": "text/x-python",
   "name": "python",
   "nbconvert_exporter": "python",
   "pygments_lexer": "ipython3",
   "version": "3.13.4"
  }
 },
 "nbformat": 4,
 "nbformat_minor": 5
}
