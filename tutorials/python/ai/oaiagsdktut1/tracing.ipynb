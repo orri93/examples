{
 "cells": [
  {
   "cell_type": "markdown",
   "id": "1fbdbdf3",
   "metadata": {},
   "source": [
    "## Tracing\n",
    "\n",
    "A way to see what the agents are doing."
   ]
  },
  {
   "cell_type": "code",
   "execution_count": null,
   "id": "aeaaa1f4",
   "metadata": {},
   "outputs": [],
   "source": [
    "from agents import Agent, Runner\n",
    "\n",
    "agent = Agent(\n",
    "    name=\"Basic Agent\",\n",
    "    instructions=\"You are a helpful assistant. Respond on in all caps.\",\n",
    "    model=\"o4-mini\",\n",
    ")\n",
    "\n",
    "# when doing a single runn the tracing is automatically done\n",
    "result = await Runner.run(agent, \"Hello! How are you?\")\n",
    "result.final_output"
   ]
  },
  {
   "cell_type": "code",
   "execution_count": null,
   "id": "2f8af7ab",
   "metadata": {},
   "outputs": [],
   "source": [
    "from agents import Agent, Runner, trace\n",
    "\n",
    "joke_agent = Agent(\n",
    "    name=\"Joke Agent\",\n",
    "    instructions=\"You are a joke teller. You are given a topic and you need to tell a joke about it.\",\n",
    "    model=\"o4-mini\",\n",
    ")\n",
    "language_agent = Agent(\n",
    "    name=\"Language Agent\",\n",
    "    instructions=\"You are a language expert. You are given a joke and you need to rewrite it in a different language.\",\n",
    "    model=\"o4-mini\",\n",
    ")\n",
    "\n",
    "with trace(\"Joke Translation Workflow\"):\n",
    "  joke_result = await Runner.run(joke_agent, \"you\")\n",
    "  language_result = await Runner.run(language_agent, f\"Translate this joke to French: {joke_result.final_output}\")\n",
    "  print(f\"Translated joke:\\n{language_result.final_output}\")"
   ]
  },
  {
   "cell_type": "code",
   "execution_count": null,
   "id": "4fd6aa4f",
   "metadata": {},
   "outputs": [],
   "source": []
  }
 ],
 "metadata": {
  "kernelspec": {
   "display_name": "venv",
   "language": "python",
   "name": "python3"
  },
  "language_info": {
   "codemirror_mode": {
    "name": "ipython",
    "version": 3
   },
   "file_extension": ".py",
   "mimetype": "text/x-python",
   "name": "python",
   "nbconvert_exporter": "python",
   "pygments_lexer": "ipython3",
   "version": "3.13.4"
  }
 },
 "nbformat": 4,
 "nbformat_minor": 5
}
