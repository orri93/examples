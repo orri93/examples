{
 "cells": [
  {
   "cell_type": "code",
   "execution_count": null,
   "id": "7c55e46f",
   "metadata": {},
   "outputs": [],
   "source": [
    "from agents import Agent, Runner, TResponseInputItem\n",
    "\n",
    "simple_agent = Agent(\n",
    "  name=\"Bob\",\n",
    "  instructions=\"You are a friendly assistant. Reply concisely.\",\n",
    ")\n",
    "\n",
    "convo: list[TResponseInputItem] = [\n",
    "  {\"content\": \"Hey!\", \"role\": \"user\"},\n",
    "  {\"content\": \"Hey! How are you? How can I help you today?\", \"role\": \"assistant\"},\n",
    "  {\"content\": \"Im having a bad day\", \"role\": \"user\"},\n",
    "]\n",
    "\n",
    "result = await Runner.run(simple_agent, convo)\n",
    "for message in result.to_input_list():\n",
    "  print(message)"
   ]
  },
  {
   "cell_type": "code",
   "execution_count": null,
   "id": "257a66a9",
   "metadata": {},
   "outputs": [],
   "source": [
    "convo: list[TResponseInputItem] = []\n",
    "print(\"You are now chatting with agent Bob. Type 'exit' to end the conversation.\")\n",
    "while True:\n",
    "  user_input = input(\"You: \")\n",
    "  print(\"You: \" + user_input)\n",
    "\n",
    "  if user_input.lower() == \"exit\":\n",
    "    print(\"Goodbye!\")\n",
    "    break\n",
    "  \n",
    "  convo.append({\"content\": user_input, \"role\": \"user\"})\n",
    "  result = await Runner.run(simple_agent, convo)\n",
    "\n",
    "  print(f\"Agent: {result.final_output}\")\n",
    "\n",
    "  convo = result.to_input_list()"
   ]
  },
  {
   "cell_type": "code",
   "execution_count": null,
   "id": "1d43b1c1",
   "metadata": {},
   "outputs": [],
   "source": [
    "from agents import Agent, Runner, handoff, RunContextWrapper\n",
    "\n",
    "history_tutor_agent = Agent(\n",
    "  name=\"History Tutor\",\n",
    "  handoff_description=\"Specialist agent for historical questions\",\n",
    "  instructions=\"You provide assistance with historical queries. Explain important events and context clearly.\",\n",
    ")\n",
    "\n",
    "math_tutor_agent = Agent(\n",
    "  name=\"Math Tutor\",\n",
    "  handoff_description=\"Specialist agent for math questions\",\n",
    "  instructions=\"You provide assistance with math queries. Explain your reasoning at each step and include examples\"\n",
    ")\n",
    "\n",
    "def on_math_handoff(ctx: RunContextWrapper[None]):\n",
    "  print(\"Handing off to math tutor agent\")\n",
    "\n",
    "# This agent has the capability to handoff to either the history or math tutor agent\n",
    "triage_agent = Agent(\n",
    "  name=\"Triage Agent\",\n",
    "  instructions=\"You determine which agent to use based on the user's homework question.\" +\n",
    "  \"If neither agent is relevant, provide a general response.\",\n",
    "  handoffs=[history_tutor_agent, handoff(math_tutor_agent, on_handoff=on_math_handoff)]\n",
    ")\n",
    "\n",
    "convo: list[TResponseInputItem] = []\n",
    "last_agent = triage_agent\n",
    "print(\"You are now chatting with the triage agent. Type 'exit' to end the conversation.\")\n",
    "while True:\n",
    "  user_input = input(\"You: \")\n",
    "  print(\"You: \" + user_input)\n",
    "\n",
    "  if user_input == \"exit\":\n",
    "    print(\"Goodbye!\")\n",
    "    break\n",
    "\n",
    "  convo.append({\"content\": user_input, \"role\": \"user\"})\n",
    "  result = await Runner.run(last_agent, convo)\n",
    "\n",
    "  convo = result.to_input_list()\n",
    "  last_agent = result.last_agent\n",
    "\n",
    "  print(f\"{last_agent.name}: {result.final_output}\\n\")"
   ]
  }
 ],
 "metadata": {
  "kernelspec": {
   "display_name": "venv",
   "language": "python",
   "name": "python3"
  },
  "language_info": {
   "codemirror_mode": {
    "name": "ipython",
    "version": 3
   },
   "file_extension": ".py",
   "mimetype": "text/x-python",
   "name": "python",
   "nbconvert_exporter": "python",
   "pygments_lexer": "ipython3",
   "version": "3.13.4"
  }
 },
 "nbformat": 4,
 "nbformat_minor": 5
}
