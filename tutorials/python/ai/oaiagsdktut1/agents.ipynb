{
 "cells": [
  {
   "cell_type": "code",
   "execution_count": null,
   "id": "c4c09a03",
   "metadata": {},
   "outputs": [],
   "source": [
    "import os\n",
    "from dotenv import load_dotenv\n",
    "\n",
    "load_dotenv()\n",
    "\n",
    "api_key = os.environ.get(\"OPENAI_API_KEY\")\n",
    "\n",
    "if not api_key:\n",
    "  raise ValueError(\"Please set the OPENAI_API_KEY environment variable.\")"
   ]
  },
  {
   "cell_type": "code",
   "execution_count": null,
   "id": "4e0044f7",
   "metadata": {},
   "outputs": [],
   "source": [
    "from agents import Agent, Runner\n",
    "\n",
    "agent = Agent(\n",
    "  name=\"Basic Agent\",\n",
    "  instructions=\"You are a helpful assistant. Respond on in all caps.\",\n",
    "  model=\"o4-mini\"\n",
    ")\n",
    "\n",
    "result = await Runner.run(agent, \"Hello, how are you?\")\n",
    "result.final_output"
   ]
  },
  {
   "cell_type": "code",
   "execution_count": null,
   "id": "06379965",
   "metadata": {},
   "outputs": [],
   "source": [
    "joke_agent = Agent(\n",
    "  name=\"Joke Agent\",\n",
    "  instructions=\"You are a joke teller. You are given a topic and you need to tell a joke about it.\",\n",
    "  model=\"o4-mini\"\n",
    ")\n",
    "\n",
    "topic = \"Cats\"\n",
    "result = await Runner.run(joke_agent, topic)\n",
    "result.final_output"
   ]
  },
  {
   "cell_type": "code",
   "execution_count": null,
   "id": "7382d1e6",
   "metadata": {},
   "outputs": [],
   "source": [
    "language_agent = Agent(\n",
    "  name=\"Language Agent\",\n",
    "  instructions=\"You are a language expert. You are given a joke and you need to rewrite it in a different language.\",\n",
    "  model=\"o4-mini\"\n",
    ")\n",
    "\n",
    "joke_result = await Runner.run(joke_agent, topic)\n",
    "transleted_result = await Runner.run(language_agent, f\"Translate this joke to Icelandic: {joke_result.final_output} \")\n",
    "print(f\"Original Joke: {joke_result.final_output}\")\n",
    "print(f\"Translated Joke: {transleted_result.final_output}\")"
   ]
  },
  {
   "cell_type": "markdown",
   "id": "ab040bf9",
   "metadata": {},
   "source": [
    "## Structured Outputs\n",
    "\n",
    "Structured outputs are a way to format the output of an LLM in a structured manner. This can be useful for tasks that require a specific formatting or data extraction."
   ]
  },
  {
   "cell_type": "code",
   "execution_count": null,
   "id": "56dbff85",
   "metadata": {},
   "outputs": [],
   "source": [
    "from pydantic import BaseModel\n",
    "from agents import Agent\n",
    "\n",
    "class Recipe(BaseModel):\n",
    "  title: str\n",
    "  ingredients: list[str]\n",
    "  instructions: str\n",
    "  cooking_time: int # in minutes\n",
    "  servings: int\n",
    "\n",
    "recipe_agent = Agent(\n",
    "  name=\"Recipe Agent\",\n",
    "  instructions=\"You are an agent for creating recipes. You will be given the name of a food and your job is to output that as an actual detailed recipe. The cooking time should be in minutes.\",\n",
    "  output_type=Recipe,\n",
    "  model=\"o4-mini\"\n",
    ")\n",
    "\n",
    "response = await Runner.run(recipe_agent, \"Chocolate Cake\")\n",
    "response.final_output"
   ]
  },
  {
   "cell_type": "markdown",
   "id": "a1ba6b33",
   "metadata": {},
   "source": [
    "## Tool Calling\n",
    "\n",
    "Tool calling is a way to extend the capabilities of an LLM by allowing it to call external tools or APIs. This can be useful for tasks that require real-time data or specific actions."
   ]
  },
  {
   "cell_type": "code",
   "execution_count": null,
   "id": "96a2dfac",
   "metadata": {},
   "outputs": [],
   "source": [
    "from agents import Agent, Runner, function_tool\n",
    "\n",
    "@function_tool\n",
    "def get_weather(city: str) -> str:\n",
    "    \"\"\"\n",
    "    Get the current weather for a given city.\n",
    "    \"\"\"\n",
    "    # This is a placeholder implementation. In a real application, you would call a weather API.\n",
    "    print(f\"Fetching weather for {city}...\")\n",
    "    return f\"The current weather in {city} is sunny.\"\n",
    "\n",
    "@function_tool\n",
    "def get_temperature(city: str) -> str:\n",
    "    \"\"\"\n",
    "    Get the current temperature for a given city.\n",
    "    \"\"\"\n",
    "    # This is a placeholder implementation. In a real application, you would call a weather API.\n",
    "    print(f\"Fetching temperature for {city}...\")\n",
    "    return f\"The current temperature in {city} is 20°C.\"\n",
    "\n",
    "weather_agent = Agent(\n",
    "  name=\"Weather Agent\",\n",
    "  instructions=\"You are the local weather agent. You are given a city and you need to tell the weather and temperature. For any unrelated queries, you should respond with 'I can only provide weather information.'\",\n",
    "  model=\"o4-mini\",\n",
    "  tools=[get_weather, get_temperature]\n",
    ")\n",
    "result = await Runner.run(weather_agent, \"What is the weather in Reykjavik?\")\n",
    "result.final_output"
   ]
  },
  {
   "cell_type": "code",
   "execution_count": null,
   "id": "dfe13f5c",
   "metadata": {},
   "outputs": [],
   "source": [
    "from agents import Agent, Runner, WebSearchTool\n",
    "\n",
    "news_agent = Agent(\n",
    "  name=\"News Reporter\",\n",
    "  instructions=\"You are a news reporter. Your job is to find recent news articles on the internet about US politics.\",\n",
    "  tools=[WebSearchTool()],\n",
    "  model=\"o4-mini\"\n",
    ")\n",
    "\n",
    "result = await Runner.run(news_agent, \"Find me the latest news on the president. Only display any positive news articles. Keep the output line length to a maximum of 80 characters by using line break. If there are no positive articles, just say 'No positive news found.'\")\n",
    "print(f\"Latest News about the president: \\n\\n{result.final_output}\")"
   ]
  }
 ],
 "metadata": {
  "kernelspec": {
   "display_name": "venv",
   "language": "python",
   "name": "python3"
  },
  "language_info": {
   "codemirror_mode": {
    "name": "ipython",
    "version": 3
   },
   "file_extension": ".py",
   "mimetype": "text/x-python",
   "name": "python",
   "nbconvert_exporter": "python",
   "pygments_lexer": "ipython3",
   "version": "3.13.4"
  }
 },
 "nbformat": 4,
 "nbformat_minor": 5
}
