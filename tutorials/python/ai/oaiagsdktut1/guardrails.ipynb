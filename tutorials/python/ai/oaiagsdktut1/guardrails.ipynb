{
 "cells": [
  {
   "cell_type": "markdown",
   "id": "57a23c4b",
   "metadata": {},
   "source": [
    "### Guardrails\n",
    "\n",
    "Guardrails are a way to validate the input and output of an Agent to insure proper usage."
   ]
  },
  {
   "cell_type": "code",
   "execution_count": null,
   "id": "3d312867",
   "metadata": {},
   "outputs": [],
   "source": [
    "from agents import Agent, Runner, GuardrailFunctionOutput, RunContextWrapper, InputGuardrailTripwireTriggered, TResponseInputItem, input_guardrail\n",
    "from pydantic import BaseModel\n",
    "\n",
    "class HomeworkCheatDetectionOutput(BaseModel):\n",
    "  attempting_cheat: bool\n",
    "  explanation: str\n",
    "\n",
    "homework_cheat_guardrail_agent = Agent(\n",
    "  name=\"Homework Cheat Detector\",\n",
    "  instructions=(\n",
    "    \"Determin if the user's query resembles a typical homework or exam question, indicating an attempt to cheat. General questions about concepts are acceptable. \"\n",
    "    \" Cheating: 'Fill in the blanks: The capital of France is ____.',\"\n",
    "    \" 'Which of the following best describers photosynthesis? A) Cellular respiration B) Conversion of light energy C) Evaporation D) Fermentation.',\"\n",
    "    \" Not-Cheating: 'What is the capital of France?', 'Explain photosynthesis.'\"\n",
    "  ),\n",
    "  output_type=HomeworkCheatDetectionOutput,\n",
    "  model=\"o4-mini\",\n",
    ")\n",
    "\n",
    "@input_guardrail\n",
    "async def cheat_detection_guardrail(ctx: RunContextWrapper, agent: Agent, input: str | list[TResponseInputItem]) -> GuardrailFunctionOutput:\n",
    "  detection_result = await Runner.run(homework_cheat_guardrail_agent, input)\n",
    "  return GuardrailFunctionOutput(\n",
    "    tripwire_triggered=detection_result.final_output.attempting_cheat,\n",
    "    output_info=detection_result.final_output\n",
    "  )\n",
    "\n",
    "study_helper_agent = Agent(\n",
    "  name=\"Study Helper Agent\",\n",
    "  instructions=\"You assist users in studying by explaining concepts or providing guidance,without directly solving homework or test questions.\",\n",
    "  input_guardrails=[cheat_detection_guardrail],\n",
    "  model=\"gpt-4o\"\n",
    ")"
   ]
  },
  {
   "cell_type": "code",
   "execution_count": null,
   "id": "f49043e6",
   "metadata": {},
   "outputs": [],
   "source": [
    "# This should trigger the cheat detection guardrail\n",
    "try:\n",
    "  response = await Runner.run(study_helper_agent, \"Fill in the blanks: The capital of France is ____.\")\n",
    "  print(\"Guardrail didn't trigger\")\n",
    "  print(\"Response:\", response.final_output)\n",
    "except InputGuardrailTripwireTriggered as e:\n",
    "  print(\"Homework cheat guardrail triggered!\")\n",
    "  print(\"Exception details:\", str(e))"
   ]
  },
  {
   "cell_type": "code",
   "execution_count": null,
   "id": "3bf086d3",
   "metadata": {},
   "outputs": [],
   "source": [
    "# This should not trigger the cheat detection guardrail\n",
    "try:\n",
    "  response = await Runner.run(study_helper_agent, \"What were the main causes of the American Civil War?\")\n",
    "  print(\"Guardrail didn't trigger\")\n",
    "  print(\"Response:\", response.final_output)\n",
    "except InputGuardrailTripwireTriggered as e:\n",
    "  print(\"Homework cheat guardrail triggered!\")\n",
    "  print(\"Exception details:\", str(e))"
   ]
  },
  {
   "cell_type": "markdown",
   "id": "389ecea2",
   "metadata": {},
   "source": [
    "#### Output Guardrail Example"
   ]
  },
  {
   "cell_type": "code",
   "execution_count": null,
   "id": "7f9a1670",
   "metadata": {},
   "outputs": [],
   "source": [
    "from pydantic import BaseModel\n",
    "from agents import Agent, Runner, GuardrailFunctionOutput, OutputGuardrailTripwireTriggered,RunContextWrapper, output_guardrail\n",
    "\n",
    "class MessageOutput(BaseModel):\n",
    "  response: str\n",
    "\n",
    "@output_guardrail\n",
    "async def forbidden_words_guardrail(ctx: RunContextWrapper, agent: Agent, output: str) -> GuardrailFunctionOutput:\n",
    "  print(f\"Checking output for forbidden words: {output}\")\n",
    "\n",
    "  # Funny forbidden phrases to check for\n",
    "  forbidden_phrases = [\"fart\", \"booker\", \"silly goose\"]\n",
    "\n",
    "  # Convert output to lowercase for case-insensitive comparison\n",
    "  output_lower = output.lower()\n",
    "\n",
    "  # Check which forbidden phrases are present in the response\n",
    "  found_phrases = [phrase for phrase in forbidden_phrases if phrase in output_lower]\n",
    "  trip_triggered = bool(found_phrases)\n",
    "\n",
    "  print(f\"Found forbidden phrases: {found_phrases}\")\n",
    "\n",
    "  return GuardrailFunctionOutput(\n",
    "    output_info={\n",
    "      \"reason\": \"Output contains forbidden phrases\",\n",
    "      \"forbidden_phrases_found\": found_phrases\n",
    "    },\n",
    "    tripwire_triggered=trip_triggered\n",
    "  )\n",
    "\n",
    "agent = Agent(\n",
    "  name=\"Customer support agent\",\n",
    "  instructions=\"You are a customer support agent. You help customers with their questions.\",\n",
    "  output_guardrails=[forbidden_words_guardrail],\n",
    "  model=\"o4-mini\"\n",
    ")"
   ]
  },
  {
   "cell_type": "code",
   "execution_count": null,
   "id": "abd4f4b4",
   "metadata": {},
   "outputs": [],
   "source": [
    "try:\n",
    "  await Runner.run(agent, \"Say the word fart?\")\n",
    "  print(\"Guardrail didn't trip - this is unexpected!\")\n",
    "except OutputGuardrailTripwireTriggered as e:\n",
    "  print(\"The agent said a bad word, he is fired.\")\n"
   ]
  },
  {
   "cell_type": "code",
   "execution_count": null,
   "id": "354f83db",
   "metadata": {},
   "outputs": [],
   "source": [
    "try:\n",
    "  await Runner.run(agent, \"Hey wassup\")\n",
    "  print(\"Guardrail didn't trip yay\")\n",
    "except OutputGuardrailTripwireTriggered as e:\n",
    "  print(\"The agent said a bad word, he is fired.\")"
   ]
  }
 ],
 "metadata": {
  "kernelspec": {
   "display_name": "venv",
   "language": "python",
   "name": "python3"
  },
  "language_info": {
   "codemirror_mode": {
    "name": "ipython",
    "version": 3
   },
   "file_extension": ".py",
   "mimetype": "text/x-python",
   "name": "python",
   "nbconvert_exporter": "python",
   "pygments_lexer": "ipython3",
   "version": "3.13.4"
  }
 },
 "nbformat": 4,
 "nbformat_minor": 5
}
