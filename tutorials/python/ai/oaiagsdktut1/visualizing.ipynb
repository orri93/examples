{
 "cells": [
  {
   "cell_type": "code",
   "execution_count": null,
   "id": "2d6ec465",
   "metadata": {},
   "outputs": [],
   "source": [
    "%pip install \"openai-agents[viz]\" -qU"
   ]
  },
  {
   "cell_type": "code",
   "execution_count": null,
   "id": "545ee999",
   "metadata": {},
   "outputs": [],
   "source": [
    "# to install graphviz: https://www.graphviz.org/download"
   ]
  },
  {
   "cell_type": "code",
   "execution_count": null,
   "id": "f836c780",
   "metadata": {},
   "outputs": [],
   "source": [
    "from agents import Agent, Runner, RunContextWrapper, function_tool, handoff\n",
    "from agents.extensions.visualization import draw_graph\n",
    "\n",
    "@function_tool\n",
    "def print_something():\n",
    "  print(\"blah blah\")\n",
    "\n",
    "history_tutor_agent = Agent(\n",
    "  name=\"History Tutor\",\n",
    "  instructions=\"You provide assistance with historical queries. Explain important events and context clearly.\",\n",
    "  handoff_description=\"Specialist agent for historical questions\",\n",
    "  model=\"gpt-4o-mini\",\n",
    ")\n",
    "\n",
    "math_tutor_agent = Agent(\n",
    "  name=\"Math Tutor\",\n",
    "  instructions=\"You provide assistance with math queries. Explain your reasoning at each step and include examples\",\n",
    "  handoff_description=\"Specialist agent for math questions\",\n",
    "  model=\"gpt-4o-mini\",\n",
    ")\n",
    "\n",
    "def on_math_handoff(ctx: RunContextWrapper[None]):\n",
    "  print(\"Handing off to math tutor agent\")\n",
    "\n",
    "def on_history_handoff(ctx: RunContextWrapper[None]):\n",
    "  print(\"Handing off to history tutor agent\")\n",
    "\n",
    "# This agent has the capability to handoff to either the history or math tutor agent\n",
    "triage_agent = Agent(\n",
    "  name=\"Triage Agent\",\n",
    "  instructions=\"You determine which agent to use based on the user's homework question.\" +\n",
    "    \"If neither agent is relevant, provide a general response.\",\n",
    "  handoffs=[handoff(history_tutor_agent, on_handoff=on_history_handoff), handoff(math_tutor_agent, on_handoff=on_math_handoff)],\n",
    "  tools=[print_something],\n",
    "  model=\"gpt-4o-mini\",\n",
    ")\n",
    "\n"
   ]
  },
  {
   "cell_type": "code",
   "execution_count": null,
   "id": "0f366a65",
   "metadata": {},
   "outputs": [],
   "source": [
    "draw_graph(triage_agent)"
   ]
  }
 ],
 "metadata": {
  "kernelspec": {
   "display_name": "venv",
   "language": "python",
   "name": "python3"
  },
  "language_info": {
   "codemirror_mode": {
    "name": "ipython",
    "version": 3
   },
   "file_extension": ".py",
   "mimetype": "text/x-python",
   "name": "python",
   "nbconvert_exporter": "python",
   "pygments_lexer": "ipython3",
   "version": "3.13.4"
  }
 },
 "nbformat": 4,
 "nbformat_minor": 5
}
