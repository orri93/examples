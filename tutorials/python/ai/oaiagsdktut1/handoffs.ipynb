{
 "cells": [
  {
   "cell_type": "markdown",
   "id": "63057d5b",
   "metadata": {},
   "source": [
    "## Handoffs\n",
    "\n",
    "A way for an agent to invoke another agent"
   ]
  },
  {
   "cell_type": "code",
   "execution_count": null,
   "id": "01524911",
   "metadata": {},
   "outputs": [],
   "source": [
    "from IPython.display import Markdown\n",
    "from pydantic import BaseModel\n",
    "from agents import Agent, Runner, ModelSettings\n",
    "\n",
    "class Tutorial(BaseModel):\n",
    "  outline: str\n",
    "  tutorial: str\n",
    "\n",
    "model_settings = ModelSettings(\n",
    "  temperature=0.1\n",
    ")\n",
    "\n",
    "tutorial_generator = Agent(\n",
    "  name=\"Tutorial Generator\",\n",
    "  instructions=\n",
    "    \"Given a programming topic and an outline, your job is to generate code snippets for each section of the outline. \" +\n",
    "    \"Format the tutorial in Markdown using a mix of text for explanation and code snippets for examples. \" +\n",
    "    \"Where it makes sense, include comments in the code snippets to further explain the code.\",\n",
    "  model_settings=model_settings,\n",
    "  output_type=Tutorial,\n",
    ")\n",
    "\n",
    "outline_builder = Agent(\n",
    "  name=\"Outline Builder\",\n",
    "  instructions=\n",
    "    \"Given a particular programming topic, your job is to help come up with a tutorial. You will do that by crafting an outline. \" +\n",
    "    \"After making the outline, hand it to the tutorial generator agent.\",\n",
    "  model_settings=model_settings,\n",
    "  handoffs=[tutorial_generator],\n",
    ")\n",
    "\n",
    "tutorial_responses = await Runner.run(outline_builder, \"Creating a Python Tutorial on Data Analysis with Pandas\")\n",
    "#display(Markdown(tutorial_responses.final_output))\n",
    "print(tutorial_responses.final_output)"
   ]
  },
  {
   "cell_type": "markdown",
   "id": "884c44c9",
   "metadata": {},
   "source": [
    "## Triage agent\n",
    "\n",
    "This agent is used to triage questions. It will determine if the question is simple enough to answer directly, or if it should be handed off to a more specialized agent."
   ]
  },
  {
   "cell_type": "code",
   "execution_count": null,
   "id": "f6df22d2",
   "metadata": {},
   "outputs": [],
   "source": [
    "from agents import Agent, Runner, handoff, RunContextWrapper\n",
    "\n",
    "history_tutor_agent = Agent(\n",
    "  name=\"History Tutor\",\n",
    "  handoff_description=\"Specialist agent for historical questions\",\n",
    "  instructions=\"You provide assistance with historical queries. Explain important events and context clearly.\",\n",
    "  model=\"o4-mini\"\n",
    ")\n",
    "\n",
    "math_tutor_agent = Agent(\n",
    "  name=\"Math Tutor\",\n",
    "  handoff_description=\"Specialist agent for mathematical problems, concepts, and questions\",\n",
    "  instructions=\"You provide assistance with mathematical queries. Solve problems step-by-step and explain concepts.\",\n",
    "  model=\"o4-mini\"\n",
    ")\n",
    "\n",
    "def on_math_handoff(ctx: RunContextWrapper[None]):\n",
    "  print(\"Handoff to math tutor agent\")\n",
    "\n",
    "def on_history_handoff(ctx: RunContextWrapper[None]):\n",
    "  print(\"Handoff to history tutor agent\")\n",
    "\n",
    "triage_agent = Agent(\n",
    "  name=\"Triage Agent\",\n",
    "  instructions=\"You determine which agent to use based on the user's homework questions. \" +\n",
    "  \"If neither agent is relevant, provide a general response.\",\n",
    "  handoffs=[handoff(history_tutor_agent, on_handoff=on_history_handoff), handoff(math_tutor_agent, on_handoff=on_math_handoff)],\n",
    "  model=\"o4-mini\"\n",
    ")\n"
   ]
  },
  {
   "cell_type": "code",
   "execution_count": null,
   "id": "6597014d",
   "metadata": {},
   "outputs": [],
   "source": [
    "result = await Runner.run(triage_agent, \"How do I add 2 and 2?\")\n",
    "display(Markdown(result.final_output))"
   ]
  },
  {
   "cell_type": "code",
   "execution_count": null,
   "id": "1c5635ca",
   "metadata": {},
   "outputs": [],
   "source": [
    "result = await Runner.run(triage_agent, \"What was the significance of the Battle of Hastings?\")\n",
    "result.final_output"
   ]
  },
  {
   "cell_type": "code",
   "execution_count": null,
   "id": "77043155",
   "metadata": {},
   "outputs": [],
   "source": [
    "from pydantic import BaseModel\n",
    "from agents import Agent, Runner, RunContextWrapper, function_tool, handoff\n",
    "\n",
    "class ManagerEscalation(BaseModel):\n",
    "  issue: str  # the issue being escalated\n",
    "  why: str # why can you not handle it? Used for training in the future \n",
    "\n",
    "@function_tool\n",
    "def create_ticket(issue: str):\n",
    "  \"\"\"\n",
    "  Create a ticket in the system for an issue to be resolved.\n",
    "  \"\"\"\n",
    "  print(f\"Creating ticket for issue: {issue}\")\n",
    "  return f\"Ticket created. ID: 12345\"\n",
    "  # In a real-world scenario, this would interact with a ticketing system\n",
    "\n",
    "manager_agent = Agent(\n",
    "  name=\"Manager\",\n",
    "  handoff_description=\"Handles escalated issues that require managerial attention.\",\n",
    "  instructions=(\n",
    "    \"You handle escalated customer issues that the initial customer service agent could not resolve. \"\n",
    "    \"You will receive the issue and the reason for escalation. If the issue cannot be immediately resolved for the \" \n",
    "    \"customer, create a ticket in teh system and inform the customer.\"\n",
    "  ),\n",
    "  tools=[create_ticket],\n",
    ")\n",
    "\n",
    "def on_manager_handoff(ctx: RunContextWrapper[None], input: ManagerEscalation):\n",
    "  print(\"Escalating to manager agent: \", input.issue)\n",
    "  print(\"Reason for escalation: \", input.why)\n",
    "  # here we might store the escalation in a database of log it for future reference\n",
    "\n",
    "customer_service_agent = Agent(\n",
    "  name=\"Customer Service\",\n",
    "  instructions=\"You assist customers with general inquiries and basic troubleshooting. \" +\n",
    "               \"If the issue cannot be resolved, escalate it to the Manager along with the reason why you cannot fix the issue yourself.\",\n",
    "  handoffs=[handoff(\n",
    "    agent=manager_agent,\n",
    "    input_type=ManagerEscalation,\n",
    "    on_handoff=on_manager_handoff\n",
    "  )],\n",
    ")\n",
    "\n",
    "result = await Runner.run(customer_service_agent, \"I want a refund, but your system won't let me process it. The website is just blank for me.\")\n",
    "result.final_output"
   ]
  }
 ],
 "metadata": {
  "kernelspec": {
   "display_name": "venv",
   "language": "python",
   "name": "python3"
  },
  "language_info": {
   "codemirror_mode": {
    "name": "ipython",
    "version": 3
   },
   "file_extension": ".py",
   "mimetype": "text/x-python",
   "name": "python",
   "nbconvert_exporter": "python",
   "pygments_lexer": "ipython3",
   "version": "3.13.4"
  }
 },
 "nbformat": 4,
 "nbformat_minor": 5
}
